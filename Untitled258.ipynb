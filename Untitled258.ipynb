{
 "cells": [
  {
   "cell_type": "code",
   "execution_count": 1,
   "id": "b3b58a82",
   "metadata": {},
   "outputs": [],
   "source": [
    "import pandas as pd\n",
    "import matplotlib.pyplot as plt\n",
    "import seaborn as sns "
   ]
  },
  {
   "cell_type": "code",
   "execution_count": 2,
   "id": "1e4c5ef2",
   "metadata": {},
   "outputs": [],
   "source": [
    "df = pd.read_csv(\"car_price_prediction_dataset.csv\")"
   ]
  },
  {
   "cell_type": "code",
   "execution_count": 3,
   "id": "0d52f537",
   "metadata": {},
   "outputs": [
    {
     "data": {
      "text/html": [
       "<div>\n",
       "<style scoped>\n",
       "    .dataframe tbody tr th:only-of-type {\n",
       "        vertical-align: middle;\n",
       "    }\n",
       "\n",
       "    .dataframe tbody tr th {\n",
       "        vertical-align: top;\n",
       "    }\n",
       "\n",
       "    .dataframe thead th {\n",
       "        text-align: right;\n",
       "    }\n",
       "</style>\n",
       "<table border=\"1\" class=\"dataframe\">\n",
       "  <thead>\n",
       "    <tr style=\"text-align: right;\">\n",
       "      <th></th>\n",
       "      <th>car_ID</th>\n",
       "      <th>symboling</th>\n",
       "      <th>CarName</th>\n",
       "      <th>fueltype</th>\n",
       "      <th>aspiration</th>\n",
       "      <th>doornumber</th>\n",
       "      <th>carbody</th>\n",
       "      <th>drivewheel</th>\n",
       "      <th>enginelocation</th>\n",
       "      <th>wheelbase</th>\n",
       "      <th>...</th>\n",
       "      <th>enginesize</th>\n",
       "      <th>fuelsystem</th>\n",
       "      <th>boreratio</th>\n",
       "      <th>stroke</th>\n",
       "      <th>compressionratio</th>\n",
       "      <th>horsepower</th>\n",
       "      <th>peakrpm</th>\n",
       "      <th>citympg</th>\n",
       "      <th>highwaympg</th>\n",
       "      <th>price</th>\n",
       "    </tr>\n",
       "  </thead>\n",
       "  <tbody>\n",
       "    <tr>\n",
       "      <th>0</th>\n",
       "      <td>1</td>\n",
       "      <td>3</td>\n",
       "      <td>alfa-romero giulia</td>\n",
       "      <td>gas</td>\n",
       "      <td>std</td>\n",
       "      <td>two</td>\n",
       "      <td>convertible</td>\n",
       "      <td>rwd</td>\n",
       "      <td>front</td>\n",
       "      <td>88.6</td>\n",
       "      <td>...</td>\n",
       "      <td>130</td>\n",
       "      <td>mpfi</td>\n",
       "      <td>3.47</td>\n",
       "      <td>2.68</td>\n",
       "      <td>9.0</td>\n",
       "      <td>111</td>\n",
       "      <td>5000</td>\n",
       "      <td>21</td>\n",
       "      <td>27</td>\n",
       "      <td>13495.0</td>\n",
       "    </tr>\n",
       "    <tr>\n",
       "      <th>1</th>\n",
       "      <td>2</td>\n",
       "      <td>3</td>\n",
       "      <td>alfa-romero stelvio</td>\n",
       "      <td>gas</td>\n",
       "      <td>std</td>\n",
       "      <td>two</td>\n",
       "      <td>convertible</td>\n",
       "      <td>rwd</td>\n",
       "      <td>front</td>\n",
       "      <td>88.6</td>\n",
       "      <td>...</td>\n",
       "      <td>130</td>\n",
       "      <td>mpfi</td>\n",
       "      <td>3.47</td>\n",
       "      <td>2.68</td>\n",
       "      <td>9.0</td>\n",
       "      <td>111</td>\n",
       "      <td>5000</td>\n",
       "      <td>21</td>\n",
       "      <td>27</td>\n",
       "      <td>16500.0</td>\n",
       "    </tr>\n",
       "    <tr>\n",
       "      <th>2</th>\n",
       "      <td>3</td>\n",
       "      <td>1</td>\n",
       "      <td>alfa-romero Quadrifoglio</td>\n",
       "      <td>gas</td>\n",
       "      <td>std</td>\n",
       "      <td>two</td>\n",
       "      <td>hatchback</td>\n",
       "      <td>rwd</td>\n",
       "      <td>front</td>\n",
       "      <td>94.5</td>\n",
       "      <td>...</td>\n",
       "      <td>152</td>\n",
       "      <td>mpfi</td>\n",
       "      <td>2.68</td>\n",
       "      <td>3.47</td>\n",
       "      <td>9.0</td>\n",
       "      <td>154</td>\n",
       "      <td>5000</td>\n",
       "      <td>19</td>\n",
       "      <td>26</td>\n",
       "      <td>16500.0</td>\n",
       "    </tr>\n",
       "    <tr>\n",
       "      <th>3</th>\n",
       "      <td>4</td>\n",
       "      <td>2</td>\n",
       "      <td>audi 100 ls</td>\n",
       "      <td>gas</td>\n",
       "      <td>std</td>\n",
       "      <td>four</td>\n",
       "      <td>sedan</td>\n",
       "      <td>fwd</td>\n",
       "      <td>front</td>\n",
       "      <td>99.8</td>\n",
       "      <td>...</td>\n",
       "      <td>109</td>\n",
       "      <td>mpfi</td>\n",
       "      <td>3.19</td>\n",
       "      <td>3.40</td>\n",
       "      <td>10.0</td>\n",
       "      <td>102</td>\n",
       "      <td>5500</td>\n",
       "      <td>24</td>\n",
       "      <td>30</td>\n",
       "      <td>13950.0</td>\n",
       "    </tr>\n",
       "    <tr>\n",
       "      <th>4</th>\n",
       "      <td>5</td>\n",
       "      <td>2</td>\n",
       "      <td>audi 100ls</td>\n",
       "      <td>gas</td>\n",
       "      <td>std</td>\n",
       "      <td>four</td>\n",
       "      <td>sedan</td>\n",
       "      <td>4wd</td>\n",
       "      <td>front</td>\n",
       "      <td>99.4</td>\n",
       "      <td>...</td>\n",
       "      <td>136</td>\n",
       "      <td>mpfi</td>\n",
       "      <td>3.19</td>\n",
       "      <td>3.40</td>\n",
       "      <td>8.0</td>\n",
       "      <td>115</td>\n",
       "      <td>5500</td>\n",
       "      <td>18</td>\n",
       "      <td>22</td>\n",
       "      <td>17450.0</td>\n",
       "    </tr>\n",
       "  </tbody>\n",
       "</table>\n",
       "<p>5 rows × 26 columns</p>\n",
       "</div>"
      ],
      "text/plain": [
       "   car_ID  symboling                   CarName fueltype aspiration doornumber  \\\n",
       "0       1          3        alfa-romero giulia      gas        std        two   \n",
       "1       2          3       alfa-romero stelvio      gas        std        two   \n",
       "2       3          1  alfa-romero Quadrifoglio      gas        std        two   \n",
       "3       4          2               audi 100 ls      gas        std       four   \n",
       "4       5          2                audi 100ls      gas        std       four   \n",
       "\n",
       "       carbody drivewheel enginelocation  wheelbase  ...  enginesize  \\\n",
       "0  convertible        rwd          front       88.6  ...         130   \n",
       "1  convertible        rwd          front       88.6  ...         130   \n",
       "2    hatchback        rwd          front       94.5  ...         152   \n",
       "3        sedan        fwd          front       99.8  ...         109   \n",
       "4        sedan        4wd          front       99.4  ...         136   \n",
       "\n",
       "   fuelsystem  boreratio  stroke compressionratio horsepower  peakrpm citympg  \\\n",
       "0        mpfi       3.47    2.68              9.0        111     5000      21   \n",
       "1        mpfi       3.47    2.68              9.0        111     5000      21   \n",
       "2        mpfi       2.68    3.47              9.0        154     5000      19   \n",
       "3        mpfi       3.19    3.40             10.0        102     5500      24   \n",
       "4        mpfi       3.19    3.40              8.0        115     5500      18   \n",
       "\n",
       "   highwaympg    price  \n",
       "0          27  13495.0  \n",
       "1          27  16500.0  \n",
       "2          26  16500.0  \n",
       "3          30  13950.0  \n",
       "4          22  17450.0  \n",
       "\n",
       "[5 rows x 26 columns]"
      ]
     },
     "execution_count": 3,
     "metadata": {},
     "output_type": "execute_result"
    }
   ],
   "source": [
    "df.head()"
   ]
  },
  {
   "cell_type": "code",
   "execution_count": 4,
   "id": "cbd6f1d8",
   "metadata": {},
   "outputs": [
    {
     "data": {
      "text/plain": [
       "(205, 26)"
      ]
     },
     "execution_count": 4,
     "metadata": {},
     "output_type": "execute_result"
    }
   ],
   "source": [
    "df.shape"
   ]
  },
  {
   "cell_type": "code",
   "execution_count": 5,
   "id": "3cfe2a2c",
   "metadata": {},
   "outputs": [
    {
     "data": {
      "text/plain": [
       "car_ID              0\n",
       "symboling           0\n",
       "CarName             0\n",
       "fueltype            0\n",
       "aspiration          0\n",
       "doornumber          0\n",
       "carbody             0\n",
       "drivewheel          0\n",
       "enginelocation      0\n",
       "wheelbase           0\n",
       "carlength           0\n",
       "carwidth            0\n",
       "carheight           0\n",
       "curbweight          0\n",
       "enginetype          0\n",
       "cylindernumber      0\n",
       "enginesize          0\n",
       "fuelsystem          0\n",
       "boreratio           0\n",
       "stroke              0\n",
       "compressionratio    0\n",
       "horsepower          0\n",
       "peakrpm             0\n",
       "citympg             0\n",
       "highwaympg          0\n",
       "price               0\n",
       "dtype: int64"
      ]
     },
     "execution_count": 5,
     "metadata": {},
     "output_type": "execute_result"
    }
   ],
   "source": [
    "df.isnull().sum()"
   ]
  },
  {
   "cell_type": "code",
   "execution_count": 6,
   "id": "e828f618",
   "metadata": {},
   "outputs": [
    {
     "name": "stdout",
     "output_type": "stream",
     "text": [
      "<class 'pandas.core.frame.DataFrame'>\n",
      "RangeIndex: 205 entries, 0 to 204\n",
      "Data columns (total 26 columns):\n",
      " #   Column            Non-Null Count  Dtype  \n",
      "---  ------            --------------  -----  \n",
      " 0   car_ID            205 non-null    int64  \n",
      " 1   symboling         205 non-null    int64  \n",
      " 2   CarName           205 non-null    object \n",
      " 3   fueltype          205 non-null    object \n",
      " 4   aspiration        205 non-null    object \n",
      " 5   doornumber        205 non-null    object \n",
      " 6   carbody           205 non-null    object \n",
      " 7   drivewheel        205 non-null    object \n",
      " 8   enginelocation    205 non-null    object \n",
      " 9   wheelbase         205 non-null    float64\n",
      " 10  carlength         205 non-null    float64\n",
      " 11  carwidth          205 non-null    float64\n",
      " 12  carheight         205 non-null    float64\n",
      " 13  curbweight        205 non-null    int64  \n",
      " 14  enginetype        205 non-null    object \n",
      " 15  cylindernumber    205 non-null    object \n",
      " 16  enginesize        205 non-null    int64  \n",
      " 17  fuelsystem        205 non-null    object \n",
      " 18  boreratio         205 non-null    float64\n",
      " 19  stroke            205 non-null    float64\n",
      " 20  compressionratio  205 non-null    float64\n",
      " 21  horsepower        205 non-null    int64  \n",
      " 22  peakrpm           205 non-null    int64  \n",
      " 23  citympg           205 non-null    int64  \n",
      " 24  highwaympg        205 non-null    int64  \n",
      " 25  price             205 non-null    float64\n",
      "dtypes: float64(8), int64(8), object(10)\n",
      "memory usage: 41.8+ KB\n"
     ]
    }
   ],
   "source": [
    "df.info()"
   ]
  },
  {
   "cell_type": "code",
   "execution_count": 9,
   "id": "87c2889c",
   "metadata": {},
   "outputs": [],
   "source": [
    "df = df.select_dtypes(include = ['int32','float64','int64'])"
   ]
  },
  {
   "cell_type": "code",
   "execution_count": 11,
   "id": "0186a9c0",
   "metadata": {},
   "outputs": [
    {
     "data": {
      "text/plain": [
       "Index(['car_ID', 'symboling', 'wheelbase', 'carlength', 'carwidth',\n",
       "       'carheight', 'curbweight', 'enginesize', 'boreratio', 'stroke',\n",
       "       'compressionratio', 'horsepower', 'peakrpm', 'citympg', 'highwaympg',\n",
       "       'price'],\n",
       "      dtype='object')"
      ]
     },
     "execution_count": 11,
     "metadata": {},
     "output_type": "execute_result"
    }
   ],
   "source": [
    "df.columns"
   ]
  },
  {
   "cell_type": "code",
   "execution_count": 13,
   "id": "9b98040d",
   "metadata": {},
   "outputs": [],
   "source": [
    "# Price Prediction\n",
    "X = df.drop(columns='price')\n",
    "y = df['price']"
   ]
  },
  {
   "cell_type": "code",
   "execution_count": 15,
   "id": "0235e68b",
   "metadata": {},
   "outputs": [
    {
     "name": "stdout",
     "output_type": "stream",
     "text": [
      "Independent data       car_ID  symboling  wheelbase  carlength  carwidth  carheight  curbweight  \\\n",
      "0         1          3       88.6      168.8      64.1       48.8        2548   \n",
      "1         2          3       88.6      168.8      64.1       48.8        2548   \n",
      "2         3          1       94.5      171.2      65.5       52.4        2823   \n",
      "3         4          2       99.8      176.6      66.2       54.3        2337   \n",
      "4         5          2       99.4      176.6      66.4       54.3        2824   \n",
      "..      ...        ...        ...        ...       ...        ...         ...   \n",
      "200     201         -1      109.1      188.8      68.9       55.5        2952   \n",
      "201     202         -1      109.1      188.8      68.8       55.5        3049   \n",
      "202     203         -1      109.1      188.8      68.9       55.5        3012   \n",
      "203     204         -1      109.1      188.8      68.9       55.5        3217   \n",
      "204     205         -1      109.1      188.8      68.9       55.5        3062   \n",
      "\n",
      "     enginesize  boreratio  stroke  compressionratio  horsepower  peakrpm  \\\n",
      "0           130       3.47    2.68               9.0         111     5000   \n",
      "1           130       3.47    2.68               9.0         111     5000   \n",
      "2           152       2.68    3.47               9.0         154     5000   \n",
      "3           109       3.19    3.40              10.0         102     5500   \n",
      "4           136       3.19    3.40               8.0         115     5500   \n",
      "..          ...        ...     ...               ...         ...      ...   \n",
      "200         141       3.78    3.15               9.5         114     5400   \n",
      "201         141       3.78    3.15               8.7         160     5300   \n",
      "202         173       3.58    2.87               8.8         134     5500   \n",
      "203         145       3.01    3.40              23.0         106     4800   \n",
      "204         141       3.78    3.15               9.5         114     5400   \n",
      "\n",
      "     citympg  highwaympg  \n",
      "0         21          27  \n",
      "1         21          27  \n",
      "2         19          26  \n",
      "3         24          30  \n",
      "4         18          22  \n",
      "..       ...         ...  \n",
      "200       23          28  \n",
      "201       19          25  \n",
      "202       18          23  \n",
      "203       26          27  \n",
      "204       19          25  \n",
      "\n",
      "[205 rows x 15 columns]\n"
     ]
    },
    {
     "ename": "AttributeError",
     "evalue": "'NoneType' object has no attribute 'head'",
     "output_type": "error",
     "traceback": [
      "\u001b[1;31m---------------------------------------------------------------------------\u001b[0m",
      "\u001b[1;31mAttributeError\u001b[0m                            Traceback (most recent call last)",
      "\u001b[1;32m~\\AppData\\Local\\Temp\\ipykernel_5012\\1208538527.py\u001b[0m in \u001b[0;36m<module>\u001b[1;34m\u001b[0m\n\u001b[1;32m----> 1\u001b[1;33m \u001b[0mprint\u001b[0m\u001b[1;33m(\u001b[0m\u001b[1;34m\"Independent data \"\u001b[0m\u001b[1;33m,\u001b[0m\u001b[0mX\u001b[0m\u001b[1;33m)\u001b[0m\u001b[1;33m.\u001b[0m\u001b[0mhead\u001b[0m\u001b[1;33m(\u001b[0m\u001b[1;36m5\u001b[0m\u001b[1;33m)\u001b[0m\u001b[1;33m\u001b[0m\u001b[1;33m\u001b[0m\u001b[0m\n\u001b[0m\u001b[0;32m      2\u001b[0m \u001b[0mprint\u001b[0m\u001b[1;33m(\u001b[0m\u001b[1;34m\"Dependent features \"\u001b[0m\u001b[1;33m,\u001b[0m\u001b[0my\u001b[0m\u001b[1;33m)\u001b[0m\u001b[1;33m.\u001b[0m\u001b[0mhead\u001b[0m\u001b[1;33m(\u001b[0m\u001b[1;36m5\u001b[0m\u001b[1;33m)\u001b[0m\u001b[1;33m\u001b[0m\u001b[1;33m\u001b[0m\u001b[0m\n",
      "\u001b[1;31mAttributeError\u001b[0m: 'NoneType' object has no attribute 'head'"
     ]
    }
   ],
   "source": [
    "print(\"Independent data \",X).head(5)\n",
    "print(\"Dependent features \",y).head(5)"
   ]
  },
  {
   "cell_type": "code",
   "execution_count": 16,
   "id": "5e4bea18",
   "metadata": {},
   "outputs": [],
   "source": [
    "from sklearn.model_selection import train_test_split"
   ]
  },
  {
   "cell_type": "code",
   "execution_count": 17,
   "id": "7ccaf83c",
   "metadata": {},
   "outputs": [],
   "source": [
    "X_train,X_test,y_train,y_test = train_test_split(X,y,test_size=0.25,random_state = 50)"
   ]
  },
  {
   "cell_type": "code",
   "execution_count": 18,
   "id": "48a6ef12",
   "metadata": {},
   "outputs": [
    {
     "name": "stdout",
     "output_type": "stream",
     "text": [
      "X_train is       car_ID  symboling  wheelbase  carlength  carwidth  carheight  curbweight  \\\n",
      "140     141          2       93.3      157.3      63.8       55.7        2240   \n",
      "171     172          2       98.4      176.2      65.6       52.0        2714   \n",
      "181     182         -1      104.5      187.8      66.5       54.1        3151   \n",
      "48       49          0      113.0      199.6      69.6       52.8        4066   \n",
      "183     184          2       97.3      171.7      65.5       55.7        2209   \n",
      "..      ...        ...        ...        ...       ...        ...         ...   \n",
      "132     133          3       99.1      186.6      66.5       56.1        2658   \n",
      "33       34          1       93.7      150.0      64.0       52.6        1940   \n",
      "109     110          0      114.2      198.9      68.4       58.7        3230   \n",
      "139     140          2       93.7      157.9      63.6       53.7        2120   \n",
      "176     177         -1      102.4      175.6      66.5       54.9        2414   \n",
      "\n",
      "     enginesize  boreratio  stroke  compressionratio  horsepower  peakrpm  \\\n",
      "140         108       3.62    2.64              8.70          73     4400   \n",
      "171         146       3.62    3.50              9.30         116     4800   \n",
      "181         161       3.27    3.35              9.20         156     5200   \n",
      "48          258       3.63    4.17              8.10         176     4750   \n",
      "183         109       3.19    3.40              9.00          85     5250   \n",
      "..          ...        ...     ...               ...         ...      ...   \n",
      "132         121       3.54    3.07              9.31         110     5250   \n",
      "33           92       2.91    3.41              9.20          76     6000   \n",
      "109         120       3.46    3.19              8.40          97     5000   \n",
      "139         108       3.62    2.64              8.70          73     4400   \n",
      "176         122       3.31    3.54              8.70          92     4200   \n",
      "\n",
      "     citympg  highwaympg  \n",
      "140       26          31  \n",
      "171       24          30  \n",
      "181       19          24  \n",
      "48        15          19  \n",
      "183       27          34  \n",
      "..       ...         ...  \n",
      "132       21          28  \n",
      "33        30          34  \n",
      "109       19          24  \n",
      "139       26          31  \n",
      "176       27          32  \n",
      "\n",
      "[153 rows x 15 columns]\n",
      "X_test is       car_ID  symboling  wheelbase  carlength  carwidth  carheight  curbweight  \\\n",
      "113     114          0      114.2      198.9      68.4       56.7        3285   \n",
      "170     171          2       98.4      176.2      65.6       52.0        2679   \n",
      "12       13          0      101.2      176.8      64.8       54.3        2710   \n",
      "73       74          0      120.9      208.1      71.7       56.7        3900   \n",
      "145     146          0       97.0      172.0      65.4       54.3        2510   \n",
      "20       21          0       94.5      158.8      63.6       52.0        1909   \n",
      "107     108          0      107.9      186.7      68.4       56.7        3020   \n",
      "8         9          1      105.8      192.7      71.4       55.9        3086   \n",
      "39       40          0       96.5      175.4      65.2       54.1        2304   \n",
      "89       90          1       94.5      165.3      63.8       54.5        1889   \n",
      "82       83          3       95.9      173.2      66.3       50.2        2833   \n",
      "164     165          1       94.5      168.7      64.0       52.6        2204   \n",
      "69       70          0      106.7      187.5      70.3       54.9        3495   \n",
      "165     166          1       94.5      168.7      64.0       52.6        2265   \n",
      "25       26          1       93.7      157.3      63.8       50.6        1989   \n",
      "100     101          0       97.2      173.4      65.2       54.7        2302   \n",
      "135     136          2       99.1      186.6      66.5       56.1        2758   \n",
      "23       24          1       93.7      157.3      63.8       50.8        2128   \n",
      "88       89         -1       96.3      172.4      65.4       51.6        2403   \n",
      "192     193          0      100.4      180.2      66.9       55.1        2579   \n",
      "97       98          1       94.5      170.2      63.8       53.5        2037   \n",
      "83       84          3       95.9      173.2      66.3       50.2        2921   \n",
      "24       25          1       93.7      157.3      63.8       50.6        1967   \n",
      "179     180          3      102.9      183.5      67.7       52.0        3016   \n",
      "138     139          2       93.7      156.9      63.4       53.7        2050   \n",
      "200     201         -1      109.1      188.8      68.9       55.5        2952   \n",
      "108     109          0      107.9      186.7      68.4       56.7        3197   \n",
      "34       35          1       93.7      150.0      64.0       52.6        1956   \n",
      "98       99          2       95.1      162.4      63.8       53.3        2008   \n",
      "168     169          2       98.4      176.2      65.6       52.0        2536   \n",
      "124     125          3       95.9      173.2      66.3       50.2        2818   \n",
      "161     162          0       95.7      166.3      64.4       52.8        2122   \n",
      "76       77          2       93.7      157.3      64.4       50.8        1918   \n",
      "155     156          0       95.7      169.7      63.6       59.1        3110   \n",
      "118     119          1       93.7      157.3      63.8       50.8        1918   \n",
      "142     143          0       97.2      172.0      65.4       52.5        2190   \n",
      "63       64          0       98.8      177.8      66.5       55.5        2443   \n",
      "54       55          1       93.1      166.8      64.2       54.1        1950   \n",
      "159     160          0       95.7      166.3      64.4       52.8        2275   \n",
      "81       82          3       96.3      173.0      65.4       49.4        2328   \n",
      "80       81          3       96.3      173.0      65.4       49.4        2370   \n",
      "180     181         -1      104.5      187.8      66.5       54.1        3131   \n",
      "38       39          0       96.5      167.5      65.2       53.3        2289   \n",
      "156     157          0       95.7      166.3      64.4       53.0        2081   \n",
      "40       41          0       96.5      175.4      62.5       54.1        2372   \n",
      "195     196         -1      104.3      188.8      67.2       57.5        3034   \n",
      "126     127          3       89.5      168.9      65.0       51.6        2756   \n",
      "182     183          2       97.3      171.7      65.5       55.7        2261   \n",
      "13       14          0      101.2      176.8      64.8       54.3        2765   \n",
      "122     123          1       93.7      167.3      63.8       50.8        2191   \n",
      "1         2          3       88.6      168.8      64.1       48.8        2548   \n",
      "117     118          0      108.0      186.7      68.3       56.0        3130   \n",
      "\n",
      "     enginesize  boreratio  stroke  compressionratio  horsepower  peakrpm  \\\n",
      "113         120       3.46    2.19               8.4          95     5000   \n",
      "170         146       3.62    3.50               9.3         116     4800   \n",
      "12          164       3.31    3.19               9.0         121     4250   \n",
      "73          308       3.80    3.35               8.0         184     4500   \n",
      "145         108       3.62    2.64               7.7         111     4800   \n",
      "20           90       3.03    3.11               9.6          70     5400   \n",
      "107         120       3.46    3.19               8.4          97     5000   \n",
      "8           131       3.13    3.40               8.3         140     5500   \n",
      "39          110       3.15    3.58               9.0          86     5800   \n",
      "89           97       3.15    3.29               9.4          69     5200   \n",
      "82          156       3.58    3.86               7.0         145     5000   \n",
      "164          98       3.19    3.03               9.0          70     4800   \n",
      "69          183       3.58    3.64              21.5         123     4350   \n",
      "165          98       3.24    3.08               9.4         112     6600   \n",
      "25           90       2.97    3.23               9.4          68     5500   \n",
      "100         120       3.33    3.47               8.5          97     5200   \n",
      "135         121       3.54    3.07               9.3         110     5250   \n",
      "23           98       3.03    3.39               7.6         102     5500   \n",
      "88          110       3.17    3.46               7.5         116     5500   \n",
      "192          97       3.01    3.40              23.0          68     4500   \n",
      "97           97       3.15    3.29               9.4          69     5200   \n",
      "83          156       3.59    3.86               7.0         145     5000   \n",
      "24           90       2.97    3.23               9.4          68     5500   \n",
      "179         171       3.27    3.35               9.3         161     5200   \n",
      "138          97       3.62    2.36               9.0          69     4900   \n",
      "200         141       3.78    3.15               9.5         114     5400   \n",
      "108         152       3.70    3.52              21.0          95     4150   \n",
      "34           92       2.91    3.41               9.2          76     6000   \n",
      "98           97       3.15    3.29               9.4          69     5200   \n",
      "168         146       3.62    3.50               9.3         116     4800   \n",
      "124         156       3.59    3.86               7.0         145     5000   \n",
      "161          98       3.19    3.03               9.0          70     4800   \n",
      "76           92       2.97    3.23               9.4          68     5500   \n",
      "155          92       3.05    3.03               9.0          62     4800   \n",
      "118          90       2.97    3.23               9.4          68     5500   \n",
      "142         108       3.62    2.64               9.5          82     4400   \n",
      "63          122       3.39    3.39              22.7          64     4650   \n",
      "54           91       3.08    3.15               9.0          68     5000   \n",
      "159         110       3.27    3.35              22.5          56     4500   \n",
      "81          122       3.35    3.46               8.5          88     5000   \n",
      "80          110       3.17    3.46               7.5         116     5500   \n",
      "180         171       3.27    3.35               9.2         156     5200   \n",
      "38          110       3.15    3.58               9.0          86     5800   \n",
      "156          98       3.19    3.03               9.0          70     4800   \n",
      "40          110       3.15    3.58               9.0          86     5800   \n",
      "195         141       3.78    3.15               9.5         114     5400   \n",
      "126         194       3.74    2.90               9.5         207     5900   \n",
      "182          97       3.01    3.40              23.0          52     4800   \n",
      "13          164       3.31    3.19               9.0         121     4250   \n",
      "122          98       2.97    3.23               9.4          68     5500   \n",
      "1           130       3.47    2.68               9.0         111     5000   \n",
      "117         134       3.61    3.21               7.0         142     5600   \n",
      "\n",
      "     citympg  highwaympg  \n",
      "113       19          24  \n",
      "170       24          30  \n",
      "12        21          28  \n",
      "73        14          16  \n",
      "145       24          29  \n",
      "20        38          43  \n",
      "107       19          24  \n",
      "8         17          20  \n",
      "39        27          33  \n",
      "89        31          37  \n",
      "82        19          24  \n",
      "164       29          34  \n",
      "69        22          25  \n",
      "165       26          29  \n",
      "25        31          38  \n",
      "100       27          34  \n",
      "135       21          28  \n",
      "23        24          30  \n",
      "88        23          30  \n",
      "192       33          38  \n",
      "97        31          37  \n",
      "83        19          24  \n",
      "24        31          38  \n",
      "179       19          24  \n",
      "138       31          36  \n",
      "200       23          28  \n",
      "108       28          33  \n",
      "34        30          34  \n",
      "98        31          37  \n",
      "168       24          30  \n",
      "124       19          24  \n",
      "161       28          34  \n",
      "76        37          41  \n",
      "155       27          32  \n",
      "118       37          41  \n",
      "142       28          33  \n",
      "63        36          42  \n",
      "54        31          38  \n",
      "159       38          47  \n",
      "81        25          32  \n",
      "80        23          30  \n",
      "180       20          24  \n",
      "38        27          33  \n",
      "156       30          37  \n",
      "40        27          33  \n",
      "195       23          28  \n",
      "126       17          25  \n",
      "182       37          46  \n",
      "13        21          28  \n",
      "122       31          38  \n",
      "1         21          27  \n",
      "117       18          24  \n",
      "y_train is  140     7603.0\n",
      "171    11549.0\n",
      "181    15750.0\n",
      "48     35550.0\n",
      "183     7975.0\n",
      "        ...   \n",
      "132    11850.0\n",
      "33      6529.0\n",
      "109    12440.0\n",
      "139     7053.0\n",
      "176    10898.0\n",
      "Name: price, Length: 153, dtype: float64\n",
      "Y test is  113    16695.0\n",
      "170    11199.0\n",
      "12     20970.0\n",
      "73     40960.0\n",
      "145    11259.0\n",
      "20      6575.0\n",
      "107    11900.0\n",
      "8      23875.0\n",
      "39      8845.0\n",
      "89      5499.0\n",
      "82     12629.0\n",
      "164     8238.0\n",
      "69     28176.0\n",
      "165     9298.0\n",
      "25      6692.0\n",
      "100     9549.0\n",
      "135    15510.0\n",
      "23      7957.0\n",
      "88      9279.0\n",
      "192    13845.0\n",
      "97      7999.0\n",
      "83     14869.0\n",
      "24      6229.0\n",
      "179    15998.0\n",
      "138     5118.0\n",
      "200    16845.0\n",
      "108    13200.0\n",
      "34      7129.0\n",
      "98      8249.0\n",
      "168     9639.0\n",
      "124    12764.0\n",
      "161     8358.0\n",
      "76      5389.0\n",
      "155     8778.0\n",
      "118     5572.0\n",
      "142     7775.0\n",
      "63     10795.0\n",
      "54      7395.0\n",
      "159     7788.0\n",
      "81      8499.0\n",
      "80      9959.0\n",
      "180    15690.0\n",
      "38      9095.0\n",
      "156     6938.0\n",
      "40     10295.0\n",
      "195    13415.0\n",
      "126    32528.0\n",
      "182     7775.0\n",
      "13     21105.0\n",
      "122     7609.0\n",
      "1      16500.0\n",
      "117    18150.0\n",
      "Name: price, dtype: float64\n"
     ]
    }
   ],
   "source": [
    "print(\"X_train is \",X_train)\n",
    "print(\"X_test is \",X_test)\n",
    "print(\"y_train is \",y_train)\n",
    "print(\"Y test is \",y_test)"
   ]
  },
  {
   "cell_type": "code",
   "execution_count": 19,
   "id": "d448989d",
   "metadata": {},
   "outputs": [
    {
     "data": {
      "text/plain": [
       "StandardScaler()"
      ]
     },
     "execution_count": 19,
     "metadata": {},
     "output_type": "execute_result"
    }
   ],
   "source": [
    "from sklearn.preprocessing import StandardScaler\n",
    "\n",
    "sc = StandardScaler()\n",
    "sc.fit(X_train,y_train)"
   ]
  },
  {
   "cell_type": "code",
   "execution_count": 21,
   "id": "27f871f9",
   "metadata": {},
   "outputs": [],
   "source": [
    "X_train = sc.fit_transform(X_train)"
   ]
  },
  {
   "cell_type": "code",
   "execution_count": 22,
   "id": "08165f28",
   "metadata": {},
   "outputs": [],
   "source": [
    "X_test = sc.fit_transform(X_test)"
   ]
  },
  {
   "cell_type": "code",
   "execution_count": 23,
   "id": "d96292ec",
   "metadata": {},
   "outputs": [
    {
     "data": {
      "text/plain": [
       "LinearRegression()"
      ]
     },
     "execution_count": 23,
     "metadata": {},
     "output_type": "execute_result"
    }
   ],
   "source": [
    "from sklearn.linear_model import LinearRegression\n",
    "\n",
    "lr  = LinearRegression()\n",
    "\n",
    "lr.fit(X_train,y_train)"
   ]
  },
  {
   "cell_type": "code",
   "execution_count": 24,
   "id": "16d7cd36",
   "metadata": {},
   "outputs": [
    {
     "data": {
      "text/plain": [
       "0.8621287000445155"
      ]
     },
     "execution_count": 24,
     "metadata": {},
     "output_type": "execute_result"
    }
   ],
   "source": [
    "lr.score(X_train,y_train)"
   ]
  },
  {
   "cell_type": "code",
   "execution_count": 33,
   "id": "7610e6ba",
   "metadata": {},
   "outputs": [
    {
     "data": {
      "text/plain": [
       "array([19970.30992875, 15200.2318898 , 19152.12549138, 46173.68057726,\n",
       "       11584.18102655,  7315.01967622, 16226.71916246, 21500.50330122,\n",
       "       11037.99805133,  6755.93580202, 18297.12756154,  5379.92563617,\n",
       "       26559.79543193, 11495.03950274,  7694.71476346, 11394.22300708,\n",
       "       15421.82252156,  9682.92596571, 10658.82655775,  8363.43558944,\n",
       "        6368.20709312, 18498.10434199,  7660.15036006, 23443.94346655,\n",
       "        9226.88233191, 19245.38413424, 20556.90299232,  9186.42347207,\n",
       "        7572.09484156, 14902.99738384, 17599.62641992,  5616.16221451,\n",
       "        7180.22049796,  7102.69690866,  5534.69213632,  8687.09843595,\n",
       "       13667.30487694,  6172.68530963,  8895.29673428, 11543.75278677,\n",
       "       12285.64499588, 21220.66912615, 11536.39309177,  5832.02486981,\n",
       "       10174.62845987, 17993.96814196, 29402.15086143,  9025.16800276,\n",
       "       19262.72512784,  6735.79739684, 15298.66460263, 21446.15193744])"
      ]
     },
     "execution_count": 33,
     "metadata": {},
     "output_type": "execute_result"
    }
   ],
   "source": [
    "lr.predict(X_test)"
   ]
  },
  {
   "cell_type": "code",
   "execution_count": 34,
   "id": "898166bb",
   "metadata": {},
   "outputs": [
    {
     "data": {
      "text/plain": [
       "0.8002894996879966"
      ]
     },
     "execution_count": 34,
     "metadata": {},
     "output_type": "execute_result"
    }
   ],
   "source": [
    "lr.score(X_test,y_test)"
   ]
  },
  {
   "cell_type": "code",
   "execution_count": 35,
   "id": "836a49fa",
   "metadata": {},
   "outputs": [],
   "source": [
    "from sklearn.model_selection import GridSearchCV\n"
   ]
  },
  {
   "cell_type": "code",
   "execution_count": 42,
   "id": "c0b310e8",
   "metadata": {},
   "outputs": [],
   "source": [
    "parameters  = {\n",
    "    'max_iter':[100,200,300,400],\n",
    "    'C':[1,2,3,4,5,6,10,20],\n",
    "}\n",
    "\n",
    "gridRegressor = GridSearchCV(lr,param_grid=parameters,scoring = 'neg_mean_squared_error',cv = 5)"
   ]
  },
  {
   "cell_type": "code",
   "execution_count": 43,
   "id": "b4091e7e",
   "metadata": {},
   "outputs": [
    {
     "data": {
      "text/plain": [
       "<bound method BaseSearchCV.score of GridSearchCV(cv=5, estimator=LinearRegression(),\n",
       "             param_grid={'C': [1, 2, 3, 4, 5, 6, 10, 20],\n",
       "                         'max_iter': [100, 200, 300, 400]},\n",
       "             scoring='neg_mean_squared_error')>"
      ]
     },
     "execution_count": 43,
     "metadata": {},
     "output_type": "execute_result"
    }
   ],
   "source": [
    "gridRegressor.score"
   ]
  },
  {
   "cell_type": "code",
   "execution_count": null,
   "id": "1a076cf6",
   "metadata": {},
   "outputs": [],
   "source": []
  },
  {
   "cell_type": "code",
   "execution_count": null,
   "id": "21698f92",
   "metadata": {},
   "outputs": [],
   "source": []
  }
 ],
 "metadata": {
  "kernelspec": {
   "display_name": "Python 3 (ipykernel)",
   "language": "python",
   "name": "python3"
  },
  "language_info": {
   "codemirror_mode": {
    "name": "ipython",
    "version": 3
   },
   "file_extension": ".py",
   "mimetype": "text/x-python",
   "name": "python",
   "nbconvert_exporter": "python",
   "pygments_lexer": "ipython3",
   "version": "3.9.13"
  }
 },
 "nbformat": 4,
 "nbformat_minor": 5
}
